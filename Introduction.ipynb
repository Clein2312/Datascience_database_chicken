{
 "cells": [
  {
   "cell_type": "markdown",
   "id": "85764bd2-fa7c-423e-b49c-98a4bdbfdb81",
   "metadata": {},
   "source": [
    "# Introduction to Numpy and Pandas\n"
   ]
  },
  {
   "cell_type": "code",
   "execution_count": 3,
   "id": "1bb7b2ba-ed25-4fa8-8f68-42ec18326256",
   "metadata": {
    "execution": {
     "iopub.execute_input": "2023-05-02T08:54:03.819434Z",
     "iopub.status.busy": "2023-05-02T08:54:03.819434Z",
     "iopub.status.idle": "2023-05-02T08:54:03.829342Z",
     "shell.execute_reply": "2023-05-02T08:54:03.829342Z",
     "shell.execute_reply.started": "2023-05-02T08:54:03.819434Z"
    },
    "tags": []
   },
   "outputs": [
    {
     "name": "stdout",
     "output_type": "stream",
     "text": [
      "2\n"
     ]
    }
   ],
   "source": [
    "import math\n",
    "x = 1 + 1\n",
    "print (x)"
   ]
  }
 ],
 "metadata": {
  "kernelspec": {
   "display_name": "Python (chicken)",
   "language": "python",
   "name": "chicken"
  },
  "language_info": {
   "codemirror_mode": {
    "name": "ipython",
    "version": 3
   },
   "file_extension": ".py",
   "mimetype": "text/x-python",
   "name": "python",
   "nbconvert_exporter": "python",
   "pygments_lexer": "ipython3",
   "version": "3.11.3"
  }
 },
 "nbformat": 4,
 "nbformat_minor": 5
}
