{
 "cells": [
  {
   "cell_type": "markdown",
   "id": "85764bd2-fa7c-423e-b49c-98a4bdbfdb81",
   "metadata": {},
   "source": [
    "# Introduction to databases\n"
   ]
  },
  {
   "cell_type": "markdown",
   "id": "780f9a16-82a4-4b7a-a8b9-5531860ea157",
   "metadata": {},
   "source": [
    "Introduction to Databases\n",
    "\n",
    "1. Understand what databases are, and why they are important in computing\n",
    "    - Learn about the different types of databases\n",
    "    - Understand the concepts of tables, rows, columns, and relationships in a database\n",
    "    - Relational Databases\n",
    "\n",
    "1.  Understand what relational databases are\n",
    "    - Learn about SQL (Structured Query Language), which is used to interact with relational databases\n",
    "    - Learn about the common relational database management systems (RDBMS) such as MySQL, PostgreSQL, Oracle, and SQL Server\n",
    "    - Creating and Modifying Databases\n",
    "\n",
    "1. Learn how to create a database using SQL\n",
    "    - Understand how to define tables, columns, and relationships in a database\n",
    "    - Learn how to modify a database structure using SQL commands\n",
    "    - Retrieving Data from Databases\n",
    "\n",
    "1. Learn how to query data from a database using SQL\n",
    "    - Understand how to use SELECT statements to retrieve data\n",
    "    - Learn how to use WHERE clauses to filter data\n",
    "    - Updating and Deleting Data in Databases\n",
    "\n",
    "5. Understand how to update data in a database using SQL\n",
    "    - Learn how to use the UPDATE statement\n",
    "    - Understand how to delete data from a database using SQL\n",
    "    - Database Normalization?\n",
    "\n",
    "6. Understand the concept of database normalization?\n",
    "    - Learn about the different normalization levels\n",
    "    - Understand the benefits of normalization\n",
    "    - Database Administration\n",
    "\n",
    "7. Understand the role of a database administrator ?(DBA)\n",
    "    - Learn about backup and recovery procedures\n",
    "    - Understand the importance of database security"
   ]
  },
  {
   "cell_type": "markdown",
   "id": "dc57ecd0-8c33-410c-9641-ca67c8c89245",
   "metadata": {
    "execution": {
     "iopub.execute_input": "2023-05-05T07:57:49.693118Z",
     "iopub.status.busy": "2023-05-05T07:57:49.693118Z",
     "iopub.status.idle": "2023-05-05T07:57:49.697268Z",
     "shell.execute_reply": "2023-05-05T07:57:49.696255Z",
     "shell.execute_reply.started": "2023-05-05T07:57:49.693118Z"
    },
    "tags": []
   },
   "source": [
    "## Relational Databases\n",
    "\n",
    "A database is a collection of structured data that is stored and can be accessed electronically. A database management system (DBMS) is the software that controls the database. There are a lot of types of databases based on the type of their content, which will give specific functionalities. However, for this workshop, we will focus only on relational databases.\n",
    "A relational database is a set of organized **tables** with contains **rows**, **columns** and can store relationships. These relationships define how different tables relate to each other.\n",
    "\n",
    "A **row** refers to an observation, or one record. **Columns** contain attribute information, so the different characteristics of the records. A **table** or **relation** is then a set of records that share the same attributes, or in other words, a set of rows and columns.\n",
    "\n",
    "**TO DO**: Paste example of database here!"
   ]
  }
 ],
 "metadata": {
  "kernelspec": {
   "display_name": "Python (chicken)",
   "language": "python",
   "name": "chicken"
  },
  "language_info": {
   "codemirror_mode": {
    "name": "ipython",
    "version": 3
   },
   "file_extension": ".py",
   "mimetype": "text/x-python",
   "name": "python",
   "nbconvert_exporter": "python",
   "pygments_lexer": "ipython3",
   "version": "3.11.3"
  }
 },
 "nbformat": 4,
 "nbformat_minor": 5
}
