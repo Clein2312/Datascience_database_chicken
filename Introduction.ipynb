{
 "cells": [
  {
   "cell_type": "markdown",
   "id": "85764bd2-fa7c-423e-b49c-98a4bdbfdb81",
   "metadata": {},
   "source": [
    "# Introduction to databases\n"
   ]
  },
  {
   "cell_type": "markdown",
   "id": "780f9a16-82a4-4b7a-a8b9-5531860ea157",
   "metadata": {},
   "source": [
    "Introduction to Databases\n",
    "\n",
    "1. Understand what databases are, and why they are important in computing\n",
    "    - Learn about the different types of databases\n",
    "    - Understand the concepts of tables, rows, columns, and relationships in a database\n",
    "    - Relational Databases\n",
    "\n",
    "1.  Understand what relational databases are\n",
    "    - Learn about SQL (Structured Query Language), which is used to interact with relational databases\n",
    "    - Learn about the common relational database management systems (RDBMS) such as MySQL, PostgreSQL, Oracle, and SQL Server\n",
    "    - Creating and Modifying Databases\n",
    "\n",
    "1. Learn how to create a database using SQL\n",
    "    - Understand how to define tables, columns, and relationships in a database\n",
    "    - Learn how to modify a database structure using SQL commands\n",
    "    - Retrieving Data from Databases\n",
    "\n",
    "1. Learn how to query data from a database using SQL\n",
    "    - Understand how to use SELECT statements to retrieve data\n",
    "    - Learn how to use WHERE clauses to filter data\n",
    "    - Updating and Deleting Data in Databases\n",
    "\n",
    "5. Understand how to update data in a database using SQL\n",
    "    - Learn how to use the UPDATE statement\n",
    "    - Understand how to delete data from a database using SQL\n",
    "    - Database Normalization\n",
    "\n",
    "6. Understand the concept of database normalization\n",
    "    - Learn about the different normalization levels\n",
    "    - Understand the benefits of normalization\n",
    "    - Database Administration\n",
    "\n",
    "7. Understand the role of a database administrator (DBA)\n",
    "    - Learn about backup and recovery procedures\n",
    "    - Understand the importance of database security"
   ]
  },
  {
   "cell_type": "code",
   "execution_count": 3,
   "id": "1bb7b2ba-ed25-4fa8-8f68-42ec18326256",
   "metadata": {
    "execution": {
     "iopub.execute_input": "2023-05-02T08:54:03.819434Z",
     "iopub.status.busy": "2023-05-02T08:54:03.819434Z",
     "iopub.status.idle": "2023-05-02T08:54:03.829342Z",
     "shell.execute_reply": "2023-05-02T08:54:03.829342Z",
     "shell.execute_reply.started": "2023-05-02T08:54:03.819434Z"
    },
    "tags": []
   },
   "outputs": [
    {
     "name": "stdout",
     "output_type": "stream",
     "text": [
      "2\n"
     ]
    }
   ],
   "source": [
    "import math\n",
    "x = 1 + 1\n",
    "print (x)"
   ]
  }
 ],
 "metadata": {
  "kernelspec": {
   "display_name": "Python (chicken)",
   "language": "python",
   "name": "chicken"
  },
  "language_info": {
   "codemirror_mode": {
    "name": "ipython",
    "version": 3
   },
   "file_extension": ".py",
   "mimetype": "text/x-python",
   "name": "python",
   "nbconvert_exporter": "python",
   "pygments_lexer": "ipython3",
   "version": "3.11.3"
  }
 },
 "nbformat": 4,
 "nbformat_minor": 5
}
