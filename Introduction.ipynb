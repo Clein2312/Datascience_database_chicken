{
 "cells": [
  {
   "cell_type": "markdown",
   "metadata": {},
   "source": [
    "# Introduction to databases\n"
   ]
  },
  {
   "cell_type": "markdown",
   "metadata": {},
   "source": [
    "Introduction to Databases\n",
    "\n",
    "1. Understand what databases are, and why they are important in computing\n",
    "    - Learn about the different types of databases\n",
    "    - Understand the concepts of tables, rows, columns, and relationships in a database\n",
    "    - Relational Databases\n",
    "\n",
    "1.  Understand what relational databases are\n",
    "    - Learn about SQL (Structured Query Language), which is used to interact with relational databases\n",
    "    - Learn about the common relational database management systems (RDBMS) such as MySQL, PostgreSQL, Oracle, and SQL Server\n",
    "    - Creating and Modifying Databases\n",
    "\n",
    "1. Learn how to create a database using SQL\n",
    "    - Understand how to define tables, columns, and relationships in a database\n",
    "    - Learn how to modify a database structure using SQL commands\n",
    "    - Retrieving Data from Databases\n",
    "\n",
    "1. __Learn how to query data from a database using SQL__: To manipulate the database here is DML(Data Manipulation Language) from SQL. It includes most common SQL statements like  SELECT, INSERT, UPDATE DELETE etc. and it is used to retrieve, store, modify and delete data from the database.\n",
    "    - Understand how to use SELECT statements to retrieve data\n",
    "        - SELECT statement is use to retreiving data from table. We can add column names after the SELECT statement that we want to show. After FROM clause we add table names from whice table we want to retreive data. Furthermore, if we add a * after the SELECT statement then the query retreive all columns from the table.\n",
    "        - Syntax: \n",
    "                1. SELECT column1, column2, ...\n",
    "                    FROM table_name;\n",
    "                \n",
    "                2. SELECT * FROM table_name;\n",
    "        - Example: \n",
    "                1. SELECT ch_id, ch_breed_line\n",
    "                    FROM chicken;\n",
    "                \n",
    "                2. SELECT * FROM chicken;\n",
    "    - Learn how to use WHERE clauses to filter data\n",
    "    - Updating and Deleting Data in Databases\n",
    "\n",
    "5. Understand how to update data in a database using SQL\n",
    "    - Learn how to use the UPDATE statement\n",
    "        - By UPDATE statement we update the data the belongs to the database\n",
    "        - Syntax: \n",
    "                    UPDATE table_name\n",
    "                    SET column1 = value1, column2 = value2, ...\n",
    "                    WHERE condition;\n",
    "        - Example:\n",
    "                    UPDATE chicken\n",
    "                    SET ch_breed_line = 'Dev'\n",
    "                    WHERE ch_id = 1402;           \n",
    "            \n",
    "            \n",
    "   - Understand how to delete data from a database using SQL\n",
    "       - By using DELETE statement we can delete existing records, table, column from the database. Here we will learn how to delete existing records from a table.\n",
    "       - Syntax: \n",
    "                   DELETE FROM table_name WHERE condition;\n",
    "       - Example: \n",
    "                   DELETE FROM chicken WHERE ch_id = 1402;\n",
    "   - Database Normalization?\n",
    "\n",
    "6. Understand the concept of database normalization?\n",
    "    - Learn about the different normalization levels\n",
    "    - Understand the benefits of normalization\n",
    "    - Database Administration\n",
    "\n",
    "7. Understand the role of a database administrator ?(DBA)\n",
    "    - Learn about backup and recovery procedures\n",
    "    - Understand the importance of database security"
   ]
  },
  {
   "cell_type": "code",
   "execution_count": 3,
   "metadata": {
    "execution": {
     "iopub.execute_input": "2023-05-02T08:54:03.819434Z",
     "iopub.status.busy": "2023-05-02T08:54:03.819434Z",
     "iopub.status.idle": "2023-05-02T08:54:03.829342Z",
     "shell.execute_reply": "2023-05-02T08:54:03.829342Z",
     "shell.execute_reply.started": "2023-05-02T08:54:03.819434Z"
    },
    "tags": []
   },
   "outputs": [
    {
     "name": "stdout",
     "output_type": "stream",
     "text": [
      "2\n"
     ]
    }
   ],
   "source": [
    "import math\n",
    "x = 1 + 1\n",
    "print (x)"
   ]
  }
 ],
 "metadata": {
  "kernelspec": {
   "display_name": "Python 3",
   "language": "python",
   "name": "python3"
  },
  "language_info": {
   "codemirror_mode": {
    "name": "ipython",
    "version": 3
   },
   "file_extension": ".py",
   "mimetype": "text/x-python",
   "name": "python",
   "nbconvert_exporter": "python",
   "pygments_lexer": "ipython3",
   "version": "3.8.5"
  },
  "nbTranslate": {
   "displayLangs": [
    "*"
   ],
   "hotkey": "alt-t",
   "langInMainMenu": true,
   "sourceLang": "en",
   "targetLang": "fr",
   "useGoogleTranslate": true
  },
  "toc": {
   "base_numbering": 1,
   "nav_menu": {},
   "number_sections": true,
   "sideBar": true,
   "skip_h1_title": false,
   "title_cell": "Table of Contents",
   "title_sidebar": "Contents",
   "toc_cell": false,
   "toc_position": {},
   "toc_section_display": true,
   "toc_window_display": false
  },
  "varInspector": {
   "cols": {
    "lenName": 16,
    "lenType": 16,
    "lenVar": 40
   },
   "kernels_config": {
    "python": {
     "delete_cmd_postfix": "",
     "delete_cmd_prefix": "del ",
     "library": "var_list.py",
     "varRefreshCmd": "print(var_dic_list())"
    },
    "r": {
     "delete_cmd_postfix": ") ",
     "delete_cmd_prefix": "rm(",
     "library": "var_list.r",
     "varRefreshCmd": "cat(var_dic_list()) "
    }
   },
   "types_to_exclude": [
    "module",
    "function",
    "builtin_function_or_method",
    "instance",
    "_Feature"
   ],
   "window_display": false
  }
 },
 "nbformat": 4,
 "nbformat_minor": 5
}
